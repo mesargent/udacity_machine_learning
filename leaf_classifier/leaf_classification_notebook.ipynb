{
 "cells": [
  {
   "cell_type": "code",
   "execution_count": 2,
   "metadata": {
    "collapsed": false
   },
   "outputs": [],
   "source": [
    "%matplotlib inline\n",
    "import numpy as np\n",
    "import cv2\n",
    "import matplotlib.pyplot as plt\n",
    "import pandas as pd\n",
    "import tensorflow as tf\n"
   ]
  },
  {
   "cell_type": "markdown",
   "metadata": {},
   "source": [
    "Loading and processing the training data"
   ]
  },
  {
   "cell_type": "code",
   "execution_count": 3,
   "metadata": {
    "collapsed": false,
    "scrolled": true
   },
   "outputs": [
    {
     "data": {
      "text/html": [
       "<div>\n",
       "<table border=\"1\" class=\"dataframe\">\n",
       "  <thead>\n",
       "    <tr style=\"text-align: right;\">\n",
       "      <th></th>\n",
       "      <th>id</th>\n",
       "      <th>species</th>\n",
       "      <th>margin1</th>\n",
       "      <th>margin2</th>\n",
       "      <th>margin3</th>\n",
       "      <th>margin4</th>\n",
       "      <th>margin5</th>\n",
       "      <th>margin6</th>\n",
       "      <th>margin7</th>\n",
       "      <th>margin8</th>\n",
       "      <th>...</th>\n",
       "      <th>texture55</th>\n",
       "      <th>texture56</th>\n",
       "      <th>texture57</th>\n",
       "      <th>texture58</th>\n",
       "      <th>texture59</th>\n",
       "      <th>texture60</th>\n",
       "      <th>texture61</th>\n",
       "      <th>texture62</th>\n",
       "      <th>texture63</th>\n",
       "      <th>texture64</th>\n",
       "    </tr>\n",
       "  </thead>\n",
       "  <tbody>\n",
       "    <tr>\n",
       "      <th>356</th>\n",
       "      <td>588</td>\n",
       "      <td>Eucalyptus_Neglecta</td>\n",
       "      <td>0.066406</td>\n",
       "      <td>0.121090</td>\n",
       "      <td>0.015625</td>\n",
       "      <td>0.001953</td>\n",
       "      <td>0.000000</td>\n",
       "      <td>0.160160</td>\n",
       "      <td>0.023438</td>\n",
       "      <td>0.000000</td>\n",
       "      <td>...</td>\n",
       "      <td>0.039062</td>\n",
       "      <td>0.0</td>\n",
       "      <td>0.021484</td>\n",
       "      <td>0.006836</td>\n",
       "      <td>0.016602</td>\n",
       "      <td>0.0</td>\n",
       "      <td>0.0</td>\n",
       "      <td>0.012695</td>\n",
       "      <td>0.000000</td>\n",
       "      <td>0.076172</td>\n",
       "    </tr>\n",
       "    <tr>\n",
       "      <th>161</th>\n",
       "      <td>282</td>\n",
       "      <td>Populus_Nigra</td>\n",
       "      <td>0.017578</td>\n",
       "      <td>0.013672</td>\n",
       "      <td>0.058594</td>\n",
       "      <td>0.003906</td>\n",
       "      <td>0.009766</td>\n",
       "      <td>0.033203</td>\n",
       "      <td>0.046875</td>\n",
       "      <td>0.005859</td>\n",
       "      <td>...</td>\n",
       "      <td>0.032227</td>\n",
       "      <td>0.0</td>\n",
       "      <td>0.013672</td>\n",
       "      <td>0.002930</td>\n",
       "      <td>0.030273</td>\n",
       "      <td>0.0</td>\n",
       "      <td>0.0</td>\n",
       "      <td>0.002930</td>\n",
       "      <td>0.000000</td>\n",
       "      <td>0.011719</td>\n",
       "    </tr>\n",
       "    <tr>\n",
       "      <th>632</th>\n",
       "      <td>1001</td>\n",
       "      <td>Populus_Grandidentata</td>\n",
       "      <td>0.001953</td>\n",
       "      <td>0.009766</td>\n",
       "      <td>0.126950</td>\n",
       "      <td>0.000000</td>\n",
       "      <td>0.000000</td>\n",
       "      <td>0.017578</td>\n",
       "      <td>0.017578</td>\n",
       "      <td>0.005859</td>\n",
       "      <td>...</td>\n",
       "      <td>0.047852</td>\n",
       "      <td>0.0</td>\n",
       "      <td>0.007812</td>\n",
       "      <td>0.000000</td>\n",
       "      <td>0.005859</td>\n",
       "      <td>0.0</td>\n",
       "      <td>0.0</td>\n",
       "      <td>0.001953</td>\n",
       "      <td>0.000000</td>\n",
       "      <td>0.016602</td>\n",
       "    </tr>\n",
       "    <tr>\n",
       "      <th>863</th>\n",
       "      <td>1381</td>\n",
       "      <td>Ulmus_Bergmanniana</td>\n",
       "      <td>0.000000</td>\n",
       "      <td>0.000000</td>\n",
       "      <td>0.003906</td>\n",
       "      <td>0.021484</td>\n",
       "      <td>0.058594</td>\n",
       "      <td>0.000000</td>\n",
       "      <td>0.017578</td>\n",
       "      <td>0.000000</td>\n",
       "      <td>...</td>\n",
       "      <td>0.000000</td>\n",
       "      <td>0.0</td>\n",
       "      <td>0.000000</td>\n",
       "      <td>0.056641</td>\n",
       "      <td>0.015625</td>\n",
       "      <td>0.0</td>\n",
       "      <td>0.0</td>\n",
       "      <td>0.123050</td>\n",
       "      <td>0.016602</td>\n",
       "      <td>0.000000</td>\n",
       "    </tr>\n",
       "    <tr>\n",
       "      <th>418</th>\n",
       "      <td>684</td>\n",
       "      <td>Quercus_Crassipes</td>\n",
       "      <td>0.037109</td>\n",
       "      <td>0.015625</td>\n",
       "      <td>0.021484</td>\n",
       "      <td>0.019531</td>\n",
       "      <td>0.000000</td>\n",
       "      <td>0.107420</td>\n",
       "      <td>0.015625</td>\n",
       "      <td>0.000000</td>\n",
       "      <td>...</td>\n",
       "      <td>0.026367</td>\n",
       "      <td>0.0</td>\n",
       "      <td>0.067383</td>\n",
       "      <td>0.000000</td>\n",
       "      <td>0.000000</td>\n",
       "      <td>0.0</td>\n",
       "      <td>0.0</td>\n",
       "      <td>0.000000</td>\n",
       "      <td>0.019531</td>\n",
       "      <td>0.020508</td>\n",
       "    </tr>\n",
       "  </tbody>\n",
       "</table>\n",
       "<p>5 rows × 194 columns</p>\n",
       "</div>"
      ],
      "text/plain": [
       "       id                species   margin1   margin2   margin3   margin4  \\\n",
       "356   588    Eucalyptus_Neglecta  0.066406  0.121090  0.015625  0.001953   \n",
       "161   282          Populus_Nigra  0.017578  0.013672  0.058594  0.003906   \n",
       "632  1001  Populus_Grandidentata  0.001953  0.009766  0.126950  0.000000   \n",
       "863  1381     Ulmus_Bergmanniana  0.000000  0.000000  0.003906  0.021484   \n",
       "418   684      Quercus_Crassipes  0.037109  0.015625  0.021484  0.019531   \n",
       "\n",
       "      margin5   margin6   margin7   margin8    ...      texture55  texture56  \\\n",
       "356  0.000000  0.160160  0.023438  0.000000    ...       0.039062        0.0   \n",
       "161  0.009766  0.033203  0.046875  0.005859    ...       0.032227        0.0   \n",
       "632  0.000000  0.017578  0.017578  0.005859    ...       0.047852        0.0   \n",
       "863  0.058594  0.000000  0.017578  0.000000    ...       0.000000        0.0   \n",
       "418  0.000000  0.107420  0.015625  0.000000    ...       0.026367        0.0   \n",
       "\n",
       "     texture57  texture58  texture59  texture60  texture61  texture62  \\\n",
       "356   0.021484   0.006836   0.016602        0.0        0.0   0.012695   \n",
       "161   0.013672   0.002930   0.030273        0.0        0.0   0.002930   \n",
       "632   0.007812   0.000000   0.005859        0.0        0.0   0.001953   \n",
       "863   0.000000   0.056641   0.015625        0.0        0.0   0.123050   \n",
       "418   0.067383   0.000000   0.000000        0.0        0.0   0.000000   \n",
       "\n",
       "     texture63  texture64  \n",
       "356   0.000000   0.076172  \n",
       "161   0.000000   0.011719  \n",
       "632   0.000000   0.016602  \n",
       "863   0.016602   0.000000  \n",
       "418   0.019531   0.020508  \n",
       "\n",
       "[5 rows x 194 columns]"
      ]
     },
     "execution_count": 3,
     "metadata": {},
     "output_type": "execute_result"
    }
   ],
   "source": [
    "# load the csv file lab, display head to examine\n",
    "train_file = 'train.csv'\n",
    "train_csv = pd.read_csv(train_file)\n",
    "# randomize dataframe rows to prepare for dividing into train/valid/test sets\n",
    "data = train_csv.sample(frac = 1)\n",
    "# display for a quick check\n",
    "data.head()\n"
   ]
  },
  {
   "cell_type": "code",
   "execution_count": 62,
   "metadata": {
    "collapsed": false
   },
   "outputs": [
    {
     "name": "stdout",
     "output_type": "stream",
     "text": [
      "First 10 categories:  ['Acer_Opalus' 'Pterocarya_Stenoptera' 'Quercus_Hartwissiana'\n",
      " 'Tilia_Tomentosa' 'Quercus_Variabilis' 'Magnolia_Salicifolia'\n",
      " 'Quercus_Canariensis' 'Quercus_Rubra' 'Quercus_Brantii' 'Salix_Fragilis']\n",
      "Number of categories: 99\n",
      "<type 'numpy.ndarray'>\n",
      "66\n"
     ]
    }
   ],
   "source": [
    "#get the different species categories\n",
    "categories = train_csv.species.unique()\n",
    "#print the 1st 10 to verify\n",
    "print \"First 10 categories: \", categories[:10]\n",
    "#print length of array to ensure 99 categories are there\n",
    "print \"Number of categories:\", len(categories) \n",
    "print type(categories)\n",
    "\n",
    "#convert string categories for training set into indices of the categories array\n",
    "labels_dense = [np.where(i == categories)[0][0] for i in data.species]\n",
    "\n",
    "\n",
    "#convert dense labels to one-hot-encoding\n",
    "labels = np.eye(len(categories))[labels_dense]"
   ]
  },
  {
   "cell_type": "markdown",
   "metadata": {},
   "source": [
    "Split the csv data into training, test, and validation sets"
   ]
  },
  {
   "cell_type": "code",
   "execution_count": 83,
   "metadata": {
    "collapsed": false
   },
   "outputs": [
    {
     "name": "stdout",
     "output_type": "stream",
     "text": [
      "Total data: 990 Training and validation examples: 792 Test examples: 198\n",
      "('test labels readable: ', 'Eucalyptus_Urnigera')\n",
      "Total labels: 990 Training and validation labels: 792 Test labelss: 198\n",
      "Total Training and validation examples: 792 Training examples: 633 Validation examples: 159\n",
      "Total Training and validationl labels: 792 Training labels: 633 Validation labels: 159\n",
      "Shape of training labels: (633, 99)\n"
     ]
    }
   ],
   "source": [
    "# split into train/test datasets. \n",
    "# test here means my own private test set to get my own idea of the accuracy, not the given test set\n",
    "train_length = int(len(data) * .8)\n",
    "\n",
    "train_ = data[:train_length]\n",
    "test_data = data[train_length:]\n",
    "print(\"Total data: {} Training and validation examples: {} Test examples: {}\".format(len(data), len(train_), len(test_data)))\n",
    "train_l = labels[:train_length]\n",
    "test_labels = labels[train_length:]\n",
    "test_labels_readable = np.array(data.species[train_length:])\n",
    "test_image_number = np.array(data.id[train_length:])\n",
    "print(\"test labels readable: \", test_labels_readable[0])\n",
    "print(\"Total labels: {} Training and validation labels: {} Test labelss: {}\".format(len(labels), len(train_l), len(test_labels)))\n",
    "\n",
    "#further split training data and labels into training and validation sets\n",
    "\n",
    "train_length = int(len(train_) * .8)\n",
    "\n",
    "train_data = train_[:train_length]\n",
    "valid_data = train_[train_length:]\n",
    "print(\"Total Training and validation examples: {} Training examples: {} Validation examples: {}\".format(len(train_), len(train_data), len(valid_data)))\n",
    "train_labels = train_l[:train_length]\n",
    "valid_labels = train_l[train_length:]\n",
    "print(\"Total Training and validationl labels: {} Training labels: {} Validation labels: {}\".format(len(train_l), len(train_labels), len(valid_labels)))\n",
    "print(\"Shape of training labels: {}\".format(train_labels.shape))\n"
   ]
  },
  {
   "cell_type": "markdown",
   "metadata": {
    "collapsed": true
   },
   "source": [
    "Now for the image data: I will grab the image for all the ids in the training and test set, coverting them from jpg to binary."
   ]
  },
  {
   "cell_type": "code",
   "execution_count": 84,
   "metadata": {
    "collapsed": false
   },
   "outputs": [],
   "source": [
    "def make_image_set(csv_set):\n",
    "    images = []\n",
    "    for i in csv_set.id:\n",
    "        im_gray = cv2.imread('images/' + str(i) + \".jpg\", cv2.IMREAD_GRAYSCALE)\n",
    "        thres, im_bw = cv2.threshold(im_gray, 128, 255, cv2.THRESH_BINARY | cv2.THRESH_OTSU)\n",
    "        im_bw = np.array(im_bw)\n",
    "        images.append(im_bw)\n",
    "    return np.array(images)\n",
    "\n",
    "train_images = make_image_set(train_data)\n",
    "valid_images = make_image_set(valid_data)\n",
    "test_images = make_image_set(test_data)\n",
    "\n",
    "\n",
    "\n",
    " # conversion to binary courtesy of  http://stackoverflow.com/a/7637687/399741"
   ]
  },
  {
   "cell_type": "code",
   "execution_count": 102,
   "metadata": {
    "collapsed": true
   },
   "outputs": [],
   "source": [
    "#modified from function found a tcourtesy ofhttps://github.com/Hvass-Labs/TensorFlow-Tutorials/blob/master/02_Convolutional_Neural_Network.ipynb\n",
    "def plot_images(images, cls_true, image_no):    \n",
    "\n",
    "    fig, axes = plt.subplots(2, 2)\n",
    "    fig.subplots_adjust(hspace=2, wspace=2)\n",
    "\n",
    "    for i, ax in enumerate(axes.flat):\n",
    "        # Plot image.\n",
    "        ax.imshow(images[i], cmap='gray')\n",
    "\n",
    "        # Show true and predicted classes.\n",
    "        xval = str(cls_true[i]) + \", image number: \" + str(image_no[i])\n",
    "        # Show the classes as the label on the x-axis.\n",
    "        ax.set_xlabel(xval)\n",
    "        \n",
    "        # Remove ticks from the plot.\n",
    "        ax.set_xticks([])\n",
    "        ax.set_yticks([])\n",
    "    \n",
    "    # Ensure the plot is shown correctly with multiple plots\n",
    "    # in a single Notebook cell.\n",
    "    plt.show()"
   ]
  },
  {
   "cell_type": "code",
   "execution_count": 117,
   "metadata": {
    "collapsed": false
   },
   "outputs": [
    {
     "data": {
      "image/png": "[encoded data removed]",
      "text/plain": [
       "<matplotlib.figure.Figure at 0x7f6084c25950>"
      ]
     },
     "metadata": {},
     "output_type": "display_data"
    }
   ],
   "source": [
    "train_l = np.array(data.species[:4])\n",
    "image_no = np.array(data.id[:4])\n",
    "# Plot the images and labels using our helper-function above to visually verify.\n",
    "plot_images(images=train_images[:4], cls_true=train_l, image_no = image_no)\n",
    "\n",
    "    "
   ]
  },
  {
   "cell_type": "markdown",
   "metadata": {
    "collapsed": true
   },
   "source": [
    "Need to make all the images the same size to run a CNN. Since CNNs are location invariant, preserving image shape is more important than centering it or preserving its location. So I will add black pixeles to the bottom and right edges of the image matrices so that they are of uniform size."
   ]
  },
  {
   "cell_type": "code",
   "execution_count": 118,
   "metadata": {
    "collapsed": false
   },
   "outputs": [
    {
     "name": "stdout",
     "output_type": "stream",
     "text": [
      "Max image height:  1089\n",
      "Max image width:  1633\n",
      "width: 400 height: 400\n"
     ]
    }
   ],
   "source": [
    "# get the max height and width of all the images in the image dataset\n",
    "max_height = 0\n",
    "max_width = 0\n",
    "\n",
    "def getMaxShape(data):\n",
    "    max_height = 0\n",
    "    max_width = 0\n",
    "    for i in data:\n",
    "        if i.shape[0] > max_height:\n",
    "            max_height = i.shape[0]\n",
    "        if i.shape[1] > max_width:\n",
    "            max_width = i.shape[1]\n",
    "    return max_height, max_width\n",
    "    \n",
    "maxTrain = getMaxShape(train_images)\n",
    "maxValid = getMaxShape(valid_images)\n",
    "maxTest = getMaxShape(test_images)\n",
    "maxdims = [maxTrain, maxValid, maxTest]\n",
    "\n",
    "from operator import itemgetter\n",
    "max_height, max_width = max(maxdims, key=itemgetter(0))\n",
    "\n",
    "        \n",
    "print \"Max image height: \", max_height\n",
    "print \"Max image width: \", max_width\n",
    "\n",
    "#to make square images, choose the largest\n",
    "image_size = max(max_height, max_width)\n",
    "\n",
    "# add the padding\n",
    "def add_padding(image, height, width):\n",
    "    add_bottom = height - image.shape[0]\n",
    "    add_right = width - image.shape[1]\n",
    "    npad = ((0, add_bottom), (0, add_right))\n",
    "    return np.pad(image, pad_width=npad, mode='constant', constant_values=0)\n",
    "\n",
    "# run add_padding on all the images\n",
    "train_images_padded = np.array([add_padding(i, image_size, image_size) for i in train_images])\n",
    "valid_images_padded = np.array([add_padding(i, image_size, image_size) for i in valid_images])\n",
    "test_images_padded = np.array([add_padding(i, image_size, image_size) for i in test_images])\n",
    "\n",
    "#resize images to something manageable\n",
    "# def resize(img, factor):\n",
    "#     return cv2.resize(img, (int(factor*img.shape[1]),int(factor*img.shape[0])), \n",
    "#                      interpolation = cv2.INTER_AREA)\n",
    "\n",
    "# factor = .05\n",
    "\n",
    "def resize(img, factor):\n",
    "    return cv2.resize(img, (400, 400), \n",
    "                     interpolation = cv2.INTER_AREA)\n",
    "\n",
    "train_images_resized = np.array([resize(i, factor) for i in train_images_padded])\n",
    "valid_images_resized = np.array([resize(i, factor) for i in valid_images_padded])\n",
    "test_images_resized = np.array([resize(i, factor) for i in test_images_padded])\n",
    "\n",
    "#get new width and height for later calculations\n",
    "height, width = train_images_resized[108].shape\n",
    "\n",
    "\n",
    "print (\"width: {} height: {}\".format(width, height))\n",
    "\n",
    "\n"
   ]
  },
  {
   "cell_type": "code",
   "execution_count": 120,
   "metadata": {
    "collapsed": false
   },
   "outputs": [
    {
     "data": {
      "image/png": "[encoded data removed]",
      "text/plain": [
       "<matplotlib.figure.Figure at 0x7f6084df7790>"
      ]
     },
     "metadata": {},
     "output_type": "display_data"
    }
   ],
   "source": [
    "#visualize a few examples, visually verify that padding was added\n",
    "\n",
    "fig = plt.figure()\n",
    "counter = 1\n",
    "for ima in train_images_resized[:4]:\n",
    "    a = fig.add_subplot(2,2, counter)\n",
    "    plt.imshow(ima, cmap='gray')\n",
    "    counter +=1\n"
   ]
  },
  {
   "cell_type": "markdown",
   "metadata": {},
   "source": [
    "I need to convert the data arrays into a Tensorflow-friendly shape with 4 dimensions; each image will have width, height, and depth(for the number of color channels)."
   ]
  },
  {
   "cell_type": "code",
   "execution_count": 121,
   "metadata": {
    "collapsed": false
   },
   "outputs": [
    {
     "name": "stdout",
     "output_type": "stream",
     "text": [
      "(633, 400, 400, 1)\n"
     ]
    }
   ],
   "source": [
    "num_channels = 1 #depth of image for grayscale\n",
    "\n",
    "#a helper function for conversion, courtesy of Udacity examples in Tensorflow source GitHub\n",
    "def reformat(dataset):\n",
    "  dataset = dataset.reshape(\n",
    "    (-1, height, width, num_channels)).astype(np.float32)\n",
    "  return dataset\n",
    "\n",
    "train_data = reformat(train_images_resized)\n",
    "valid_data = reformat(valid_images_resized)\n",
    "test_data = reformat(test_images_resized)\n",
    "\n",
    "print train_data.shape"
   ]
  },
  {
   "cell_type": "code",
   "execution_count": 122,
   "metadata": {
    "collapsed": true
   },
   "outputs": [],
   "source": [
    "#an accuracy helper function\n",
    "def accuracy(predictions, labels):\n",
    "  return (100.0 * np.sum(np.argmax(predictions, 1) == np.argmax(labels, 1))\n",
    "          / predictions.shape[0])"
   ]
  },
  {
   "cell_type": "markdown",
   "metadata": {
    "collapsed": true
   },
   "source": [
    "Now to create the model graph with two convolutional layers followed by a fully connected layer."
   ]
  },
  {
   "cell_type": "code",
   "execution_count": 123,
   "metadata": {
    "collapsed": false
   },
   "outputs": [],
   "source": [
    "batch_size = 16\n",
    "patch_size = 5\n",
    "depth = 16\n",
    "num_hidden = 64\n",
    "num_labels = 99\n",
    "\n",
    "graph = tf.Graph()\n",
    "with graph.as_default():\n",
    "\n",
    "  # Input data.\n",
    "  tf_train_dataset = tf.placeholder(\n",
    "    tf.float32, shape=(batch_size, height, width, num_channels))\n",
    "  tf_train_labels = tf.placeholder(tf.float32, shape=(batch_size, num_labels))\n",
    "  tf_valid_dataset = tf.constant(valid_data)\n",
    "  tf_test_dataset = tf.constant(test_data)\n",
    "  \n",
    "  # Variables.\n",
    "  layer1_weights = tf.Variable(tf.truncated_normal(\n",
    "      [patch_size, patch_size, num_channels, depth], stddev=0.1))\n",
    "  layer1_biases = tf.Variable(tf.zeros([depth]))\n",
    "  layer2_weights = tf.Variable(tf.truncated_normal(\n",
    "      [patch_size, patch_size, depth, depth], stddev=0.1))\n",
    "  layer2_biases = tf.Variable(tf.constant(1.0, shape=[depth]))\n",
    "  layer3_weights = tf.Variable(tf.truncated_normal(\n",
    "      [height // 4 * width // 4 * depth, num_hidden], stddev=0.1))\n",
    "  layer3_biases = tf.Variable(tf.constant(1.0, shape=[num_hidden]))\n",
    "  layer4_weights = tf.Variable(tf.truncated_normal(\n",
    "      [num_hidden, num_labels], stddev=0.1))\n",
    "  layer4_biases = tf.Variable(tf.constant(1.0, shape=[num_labels]))\n",
    "  \n",
    "  # Model.\n",
    "  def model(data):\n",
    "    conv = tf.nn.conv2d(data, layer1_weights, [1, 2, 2, 1], padding='SAME')\n",
    "    hidden = tf.nn.relu(conv + layer1_biases)\n",
    "    conv = tf.nn.conv2d(hidden, layer2_weights, [1, 2, 2, 1], padding='SAME')\n",
    "    hidden = tf.nn.relu(conv + layer2_biases)\n",
    "    shape = hidden.get_shape().as_list()\n",
    "    reshape = tf.reshape(hidden, [shape[0], shape[1] * shape[2] * shape[3]])\n",
    "    hidden = tf.nn.relu(tf.matmul(reshape, layer3_weights) + layer3_biases)\n",
    "    return tf.matmul(hidden, layer4_weights) + layer4_biases\n",
    "  \n",
    "  # Training computation.\n",
    "  logits = model(tf_train_dataset)\n",
    "  loss = tf.reduce_mean(\n",
    "    tf.nn.softmax_cross_entropy_with_logits(logits, tf_train_labels))\n",
    "    \n",
    "  # Optimizer.\n",
    "  optimizer = tf.train.GradientDescentOptimizer(0.05).minimize(loss)\n",
    "  \n",
    "  # Predictions for the training, validation, and test data.\n",
    "  train_prediction = tf.nn.softmax(logits)\n",
    "  valid_prediction = tf.nn.softmax(model(tf_valid_dataset))\n",
    "  test_prediction = tf.nn.softmax(model(tf_test_dataset))"
   ]
  },
  {
   "cell_type": "markdown",
   "metadata": {},
   "source": [
    "Now to train the model."
   ]
  },
  {
   "cell_type": "code",
   "execution_count": null,
   "metadata": {
    "collapsed": false
   },
   "outputs": [
    {
     "name": "stdout",
     "output_type": "stream",
     "text": [
      "Initialized\n",
      "Minibatch loss at step 0: 406.414246\n",
      "Minibatch accuracy: 0.0%\n",
      "Validation accuracy: 2.5%\n",
      "Minibatch loss at step 50: 4.592008\n",
      "Minibatch accuracy: 6.2%\n",
      "Validation accuracy: 0.0%\n",
      "Minibatch loss at step 100: 4.589972\n",
      "Minibatch accuracy: 0.0%\n",
      "Validation accuracy: 0.0%\n"
     ]
    }
   ],
   "source": [
    "num_steps = 1001\n",
    "\n",
    "with tf.Session(graph=graph) as session:\n",
    "  tf.initialize_all_variables().run()\n",
    "  print('Initialized')\n",
    "  for step in range(num_steps):\n",
    "    offset = (step * batch_size) % (train_labels.shape[0] - batch_size)\n",
    "    batch_data = train_data[offset:(offset + batch_size), :, :, :]\n",
    "    batch_labels = train_labels[offset:(offset + batch_size), :]\n",
    "    feed_dict = {tf_train_dataset : batch_data, tf_train_labels : batch_labels}\n",
    "    _, l, predictions = session.run(\n",
    "      [optimizer, loss, train_prediction], feed_dict=feed_dict)\n",
    "    if (step % 50 == 0):\n",
    "      print('Minibatch loss at step %d: %f' % (step, l))\n",
    "      print('Minibatch accuracy: %.1f%%' % accuracy(predictions, batch_labels))\n",
    "      print('Validation accuracy: %.1f%%' % accuracy(\n",
    "        valid_prediction.eval(), valid_labels))\n",
    "  print('Test accuracy: %.1f%%' % accuracy(test_prediction.eval(), test_labels))"
   ]
  },
  {
   "cell_type": "code",
   "execution_count": null,
   "metadata": {
    "collapsed": true
   },
   "outputs": [],
   "source": []
  }
 ],
 "metadata": {
  "kernelspec": {
   "display_name": "Python 2",
   "language": "python",
   "name": "python2"
  },
  "language_info": {
   "codemirror_mode": {
    "name": "ipython",
    "version": 2
   },
   "file_extension": ".py",
   "mimetype": "text/x-python",
   "name": "python",
   "nbconvert_exporter": "python",
   "pygments_lexer": "ipython2",
   "version": "2.7.12"
  }
 },
 "nbformat": 4,
 "nbformat_minor": 1
}
