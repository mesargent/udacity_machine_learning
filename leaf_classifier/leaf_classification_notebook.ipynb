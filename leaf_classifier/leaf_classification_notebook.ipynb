{
 "cells": [
  {
   "cell_type": "code",
   "execution_count": 1,
   "metadata": {
    "collapsed": false
   },
   "outputs": [],
   "source": [
    "%matplotlib inline\n",
    "import numpy as np\n",
    "import cv2\n",
    "import matplotlib.pyplot as plt\n",
    "import pandas as pd\n",
    "\n"
   ]
  },
  {
   "cell_type": "markdown",
   "metadata": {},
   "source": [
    "Loading and processing the training data"
   ]
  },
  {
   "cell_type": "code",
   "execution_count": 2,
   "metadata": {
    "collapsed": false,
    "scrolled": true
   },
   "outputs": [
    {
     "data": {
      "text/html": [
       "<div>\n",
       "<table border=\"1\" class=\"dataframe\">\n",
       "  <thead>\n",
       "    <tr style=\"text-align: right;\">\n",
       "      <th></th>\n",
       "      <th>id</th>\n",
       "      <th>species</th>\n",
       "      <th>margin1</th>\n",
       "      <th>margin2</th>\n",
       "      <th>margin3</th>\n",
       "      <th>margin4</th>\n",
       "      <th>margin5</th>\n",
       "      <th>margin6</th>\n",
       "      <th>margin7</th>\n",
       "      <th>margin8</th>\n",
       "      <th>...</th>\n",
       "      <th>texture55</th>\n",
       "      <th>texture56</th>\n",
       "      <th>texture57</th>\n",
       "      <th>texture58</th>\n",
       "      <th>texture59</th>\n",
       "      <th>texture60</th>\n",
       "      <th>texture61</th>\n",
       "      <th>texture62</th>\n",
       "      <th>texture63</th>\n",
       "      <th>texture64</th>\n",
       "    </tr>\n",
       "  </thead>\n",
       "  <tbody>\n",
       "    <tr>\n",
       "      <th>340</th>\n",
       "      <td>559</td>\n",
       "      <td>Populus_Adenopoda</td>\n",
       "      <td>0.019531</td>\n",
       "      <td>0.021484</td>\n",
       "      <td>0.062500</td>\n",
       "      <td>0.019531</td>\n",
       "      <td>0.003906</td>\n",
       "      <td>0.019531</td>\n",
       "      <td>0.080078</td>\n",
       "      <td>0.0</td>\n",
       "      <td>...</td>\n",
       "      <td>0.000000</td>\n",
       "      <td>0.000000</td>\n",
       "      <td>0.003906</td>\n",
       "      <td>0.014648</td>\n",
       "      <td>0.000000</td>\n",
       "      <td>0.11231</td>\n",
       "      <td>0.000000</td>\n",
       "      <td>0.272460</td>\n",
       "      <td>0.000000</td>\n",
       "      <td>0.000000</td>\n",
       "    </tr>\n",
       "    <tr>\n",
       "      <th>520</th>\n",
       "      <td>841</td>\n",
       "      <td>Quercus_Coccinea</td>\n",
       "      <td>0.001953</td>\n",
       "      <td>0.000000</td>\n",
       "      <td>0.037109</td>\n",
       "      <td>0.048828</td>\n",
       "      <td>0.007812</td>\n",
       "      <td>0.000000</td>\n",
       "      <td>0.001953</td>\n",
       "      <td>0.0</td>\n",
       "      <td>...</td>\n",
       "      <td>0.005859</td>\n",
       "      <td>0.008789</td>\n",
       "      <td>0.016602</td>\n",
       "      <td>0.002930</td>\n",
       "      <td>0.014648</td>\n",
       "      <td>0.00000</td>\n",
       "      <td>0.002930</td>\n",
       "      <td>0.012695</td>\n",
       "      <td>0.004883</td>\n",
       "      <td>0.000000</td>\n",
       "    </tr>\n",
       "    <tr>\n",
       "      <th>356</th>\n",
       "      <td>588</td>\n",
       "      <td>Eucalyptus_Neglecta</td>\n",
       "      <td>0.066406</td>\n",
       "      <td>0.121090</td>\n",
       "      <td>0.015625</td>\n",
       "      <td>0.001953</td>\n",
       "      <td>0.000000</td>\n",
       "      <td>0.160160</td>\n",
       "      <td>0.023438</td>\n",
       "      <td>0.0</td>\n",
       "      <td>...</td>\n",
       "      <td>0.039062</td>\n",
       "      <td>0.000000</td>\n",
       "      <td>0.021484</td>\n",
       "      <td>0.006836</td>\n",
       "      <td>0.016602</td>\n",
       "      <td>0.00000</td>\n",
       "      <td>0.000000</td>\n",
       "      <td>0.012695</td>\n",
       "      <td>0.000000</td>\n",
       "      <td>0.076172</td>\n",
       "    </tr>\n",
       "    <tr>\n",
       "      <th>164</th>\n",
       "      <td>288</td>\n",
       "      <td>Acer_Mono</td>\n",
       "      <td>0.023438</td>\n",
       "      <td>0.007812</td>\n",
       "      <td>0.027344</td>\n",
       "      <td>0.035156</td>\n",
       "      <td>0.003906</td>\n",
       "      <td>0.005859</td>\n",
       "      <td>0.019531</td>\n",
       "      <td>0.0</td>\n",
       "      <td>...</td>\n",
       "      <td>0.182620</td>\n",
       "      <td>0.000000</td>\n",
       "      <td>0.016602</td>\n",
       "      <td>0.000000</td>\n",
       "      <td>0.002930</td>\n",
       "      <td>0.00000</td>\n",
       "      <td>0.000000</td>\n",
       "      <td>0.000000</td>\n",
       "      <td>0.000000</td>\n",
       "      <td>0.007812</td>\n",
       "    </tr>\n",
       "    <tr>\n",
       "      <th>909</th>\n",
       "      <td>1461</td>\n",
       "      <td>Cornus_Chinensis</td>\n",
       "      <td>0.068359</td>\n",
       "      <td>0.158200</td>\n",
       "      <td>0.021484</td>\n",
       "      <td>0.000000</td>\n",
       "      <td>0.000000</td>\n",
       "      <td>0.109380</td>\n",
       "      <td>0.005859</td>\n",
       "      <td>0.0</td>\n",
       "      <td>...</td>\n",
       "      <td>0.000000</td>\n",
       "      <td>0.083008</td>\n",
       "      <td>0.006836</td>\n",
       "      <td>0.004883</td>\n",
       "      <td>0.014648</td>\n",
       "      <td>0.00000</td>\n",
       "      <td>0.004883</td>\n",
       "      <td>0.038086</td>\n",
       "      <td>0.003906</td>\n",
       "      <td>0.033203</td>\n",
       "    </tr>\n",
       "  </tbody>\n",
       "</table>\n",
       "<p>5 rows × 194 columns</p>\n",
       "</div>"
      ],
      "text/plain": [
       "       id              species   margin1   margin2   margin3   margin4  \\\n",
       "340   559    Populus_Adenopoda  0.019531  0.021484  0.062500  0.019531   \n",
       "520   841     Quercus_Coccinea  0.001953  0.000000  0.037109  0.048828   \n",
       "356   588  Eucalyptus_Neglecta  0.066406  0.121090  0.015625  0.001953   \n",
       "164   288            Acer_Mono  0.023438  0.007812  0.027344  0.035156   \n",
       "909  1461     Cornus_Chinensis  0.068359  0.158200  0.021484  0.000000   \n",
       "\n",
       "      margin5   margin6   margin7  margin8    ...      texture55  texture56  \\\n",
       "340  0.003906  0.019531  0.080078      0.0    ...       0.000000   0.000000   \n",
       "520  0.007812  0.000000  0.001953      0.0    ...       0.005859   0.008789   \n",
       "356  0.000000  0.160160  0.023438      0.0    ...       0.039062   0.000000   \n",
       "164  0.003906  0.005859  0.019531      0.0    ...       0.182620   0.000000   \n",
       "909  0.000000  0.109380  0.005859      0.0    ...       0.000000   0.083008   \n",
       "\n",
       "     texture57  texture58  texture59  texture60  texture61  texture62  \\\n",
       "340   0.003906   0.014648   0.000000    0.11231   0.000000   0.272460   \n",
       "520   0.016602   0.002930   0.014648    0.00000   0.002930   0.012695   \n",
       "356   0.021484   0.006836   0.016602    0.00000   0.000000   0.012695   \n",
       "164   0.016602   0.000000   0.002930    0.00000   0.000000   0.000000   \n",
       "909   0.006836   0.004883   0.014648    0.00000   0.004883   0.038086   \n",
       "\n",
       "     texture63  texture64  \n",
       "340   0.000000   0.000000  \n",
       "520   0.004883   0.000000  \n",
       "356   0.000000   0.076172  \n",
       "164   0.000000   0.007812  \n",
       "909   0.003906   0.033203  \n",
       "\n",
       "[5 rows x 194 columns]"
      ]
     },
     "execution_count": 2,
     "metadata": {},
     "output_type": "execute_result"
    }
   ],
   "source": [
    "# load the csv file lab, display head to examine\n",
    "train_file = 'train.csv'\n",
    "train_csv = pd.read_csv(train_file)\n",
    "# randomize dataframe rows to prepare for dividing into train/valid/test sets\n",
    "data = train_csv.sample(frac = 1)\n",
    "# display for a quick check\n",
    "data.head()\n"
   ]
  },
  {
   "cell_type": "code",
   "execution_count": 4,
   "metadata": {
    "collapsed": false
   },
   "outputs": [
    {
     "name": "stdout",
     "output_type": "stream",
     "text": [
      "First 10 categories:  ['Acer_Opalus' 'Pterocarya_Stenoptera' 'Quercus_Hartwissiana'\n",
      " 'Tilia_Tomentosa' 'Quercus_Variabilis' 'Magnolia_Salicifolia'\n",
      " 'Quercus_Canariensis' 'Quercus_Rubra' 'Quercus_Brantii' 'Salix_Fragilis']\n",
      "Number of categories: 99\n",
      "<type 'numpy.ndarray'>\n"
     ]
    }
   ],
   "source": [
    "#get the different species categories\n",
    "categories = train_csv.species.unique()\n",
    "#print the 1st 10 to verify\n",
    "print \"First 10 categories: \", categories[:10]\n",
    "#print length of array to ensure 99 categories are there\n",
    "print \"Number of categories:\", len(categories) \n",
    "print type(categories)\n",
    "\n",
    "#convert string categories for training set into indices of the categories array\n",
    "labels_dense = [np.where(i == categories)[0][0] for i in data.species]\n",
    "\n",
    "#convert dense labels to one-hot-encoding\n",
    "labels = np.eye(len(categories))[labels_dense]"
   ]
  },
  {
   "cell_type": "markdown",
   "metadata": {},
   "source": [
    "Split the data into training, test, and validation sets"
   ]
  },
  {
   "cell_type": "code",
   "execution_count": 5,
   "metadata": {
    "collapsed": false
   },
   "outputs": [
    {
     "name": "stdout",
     "output_type": "stream",
     "text": [
      "Total data: 990 Training and validation examples: 792 Test examples: 198\n",
      "Total labels: 990 Training and validation labels: 792 Test labelss: 198\n",
      "Total Training and validation examples: 792 Training examples: 633 Validation examples: 159\n",
      "Total Training and validationl labels: 792 Training labels: 633 Validation labels: 159\n",
      "Shape of training labels: (633, 99)\n"
     ]
    }
   ],
   "source": [
    "# split into train/test datasets. \n",
    "# test here means my own private test set to get my own idea of the accuracy, not the given test set\n",
    "train_length = int(len(data) * .8)\n",
    "\n",
    "train_ = data[:train_length]\n",
    "test_data = data[train_length:]\n",
    "print(\"Total data: {} Training and validation examples: {} Test examples: {}\".format(len(data), len(train_), len(test_data)))\n",
    "train_l = labels[:train_length]\n",
    "test_labels = labels[train_length:]\n",
    "print(\"Total labels: {} Training and validation labels: {} Test labelss: {}\".format(len(labels), len(train_l), len(test_labels)))\n",
    "\n",
    "#further split training data and labels into training and validation sets\n",
    "\n",
    "train_length = int(len(train_) * .8)\n",
    "\n",
    "train_data = train_[:train_length]\n",
    "valid_data = train_[train_length:]\n",
    "print(\"Total Training and validation examples: {} Training examples: {} Validation examples: {}\".format(len(train_), len(train_data), len(valid_data)))\n",
    "train_labels = train_l[:train_length]\n",
    "valid_labels = train_l[train_length:]\n",
    "print(\"Total Training and validationl labels: {} Training labels: {} Validation labels: {}\".format(len(train_l), len(train_labels), len(valid_labels)))\n",
    "print(\"Shape of training labels: {}\".format(train_labels.shape))"
   ]
  },
  {
   "cell_type": "markdown",
   "metadata": {
    "collapsed": true
   },
   "source": [
    "Now for the image data: I will grab the image for all the ids in the training and test set, coverting them from jpg to binary."
   ]
  },
  {
   "cell_type": "code",
   "execution_count": 6,
   "metadata": {
    "collapsed": false
   },
   "outputs": [],
   "source": [
    "images = []\n",
    "for i in train_csv.id:\n",
    "    im_gray = cv2.imread('images/' + str(i) + \".jpg\", cv2.IMREAD_GRAYSCALE)\n",
    "    thres, im_bw = cv2.threshold(im_gray, 128, 255, cv2.THRESH_BINARY | cv2.THRESH_OTSU)\n",
    "    im_bw = np.array(im_bw)\n",
    "    images.append(im_bw)\n",
    "\n",
    " # conversion to binary courtesy of  http://stackoverflow.com/a/7637687/399741"
   ]
  },
  {
   "cell_type": "code",
   "execution_count": 7,
   "metadata": {
    "collapsed": false
   },
   "outputs": [
    {
     "data": {
      "image/png": "[encoded data removed]",
      "text/plain": [
       "<matplotlib.figure.Figure at 0x7f6855f15d10>"
      ]
     },
     "metadata": {},
     "output_type": "display_data"
    }
   ],
   "source": [
    "#visualize a few examples, visually verify with images in folder\n",
    "fig = plt.figure()\n",
    "counter = 1\n",
    "for ima in images[:4]:\n",
    "    a = fig.add_subplot(2,2, counter)\n",
    "    plt.imshow(ima, cmap='gray')\n",
    "    counter +=1\n",
    "    "
   ]
  },
  {
   "cell_type": "markdown",
   "metadata": {
    "collapsed": true
   },
   "source": [
    "Need to make all the images the same size to run a CNN. Since CNNs are location invariant, preserving image shape is more important than centering it or preserving its location. So I will add black pixeles to the top and right edges of the image matrices so that they are of uniform size."
   ]
  },
  {
   "cell_type": "code",
   "execution_count": 27,
   "metadata": {
    "collapsed": false
   },
   "outputs": [
    {
     "name": "stdout",
     "output_type": "stream",
     "text": [
      "Max image height:  1089\n",
      "Max image width:  1633\n",
      "(1089, 1633)\n"
     ]
    }
   ],
   "source": [
    "# get the max height and width of all the images in the image dataset\n",
    "max_height = 0\n",
    "max_width = 0\n",
    "\n",
    "for i in images:\n",
    "    if i.shape[0] > max_height:\n",
    "        max_height = i.shape[0]\n",
    "    if i.shape[1] > max_width:\n",
    "        max_width = i.shape[1]\n",
    "        \n",
    "print \"Max image height: \", max_height\n",
    "print \"Max image width: \", max_width\n",
    "\n",
    "def add_padding(image, width, height):\n",
    "    add_top = height - image.shape[0]\n",
    "    add_right = width - image.shape[1]\n",
    "    npad = ((0, add_top), (0, add_right))\n",
    "    return np.pad(image, pad_width=npad, mode='constant', constant_values=0)\n",
    "   \n",
    "images_padded = np.array([add_padding(i, max_width, max_height) for i in images])\n",
    "print images_padded[5].shape"
   ]
  },
  {
   "cell_type": "code",
   "execution_count": 28,
   "metadata": {
    "collapsed": false
   },
   "outputs": [
    {
     "data": {
      "image/png": "[encoded data removed]",
      "text/plain": [
       "<matplotlib.figure.Figure at 0x7f685432ca50>"
      ]
     },
     "metadata": {},
     "output_type": "display_data"
    }
   ],
   "source": [
    "#visualize a few examples, visually verify that padding was added\n",
    "fig = plt.figure()\n",
    "counter = 1\n",
    "for ima in images_padded[:5]:\n",
    "    a = fig.add_subplot(1,5, counter)\n",
    "    plt.imshow(ima, cmap='gray')\n",
    "    counter +=1\n",
    "    "
   ]
  },
  {
   "cell_type": "code",
   "execution_count": null,
   "metadata": {
    "collapsed": true
   },
   "outputs": [],
   "source": []
  }
 ],
 "metadata": {
  "kernelspec": {
   "display_name": "Python 2",
   "language": "python",
   "name": "python2"
  },
  "language_info": {
   "codemirror_mode": {
    "name": "ipython",
    "version": 2
   },
   "file_extension": ".py",
   "mimetype": "text/x-python",
   "name": "python",
   "nbconvert_exporter": "python",
   "pygments_lexer": "ipython2",
   "version": "2.7.12"
  }
 },
 "nbformat": 4,
 "nbformat_minor": 1
}
