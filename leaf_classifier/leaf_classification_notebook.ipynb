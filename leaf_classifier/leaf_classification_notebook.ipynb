{
 "cells": [
  {
   "cell_type": "code",
   "execution_count": 1,
   "metadata": {
    "collapsed": false
   },
   "outputs": [],
   "source": [
    "%matplotlib inline\n",
    "import numpy as np\n",
    "import cv2\n",
    "import matplotlib.pyplot as plt\n",
    "import pandas as pd\n",
    "import tensorflow as tf\n",
    "\n"
   ]
  },
  {
   "cell_type": "markdown",
   "metadata": {},
   "source": [
    "Loading and processing the training data"
   ]
  },
  {
   "cell_type": "code",
   "execution_count": 2,
   "metadata": {
    "collapsed": false,
    "scrolled": true
   },
   "outputs": [
    {
     "data": {
      "text/html": [
       "<div>\n",
       "<table border=\"1\" class=\"dataframe\">\n",
       "  <thead>\n",
       "    <tr style=\"text-align: right;\">\n",
       "      <th></th>\n",
       "      <th>id</th>\n",
       "      <th>species</th>\n",
       "      <th>margin1</th>\n",
       "      <th>margin2</th>\n",
       "      <th>margin3</th>\n",
       "      <th>margin4</th>\n",
       "      <th>margin5</th>\n",
       "      <th>margin6</th>\n",
       "      <th>margin7</th>\n",
       "      <th>margin8</th>\n",
       "      <th>...</th>\n",
       "      <th>texture55</th>\n",
       "      <th>texture56</th>\n",
       "      <th>texture57</th>\n",
       "      <th>texture58</th>\n",
       "      <th>texture59</th>\n",
       "      <th>texture60</th>\n",
       "      <th>texture61</th>\n",
       "      <th>texture62</th>\n",
       "      <th>texture63</th>\n",
       "      <th>texture64</th>\n",
       "    </tr>\n",
       "  </thead>\n",
       "  <tbody>\n",
       "    <tr>\n",
       "      <th>287</th>\n",
       "      <td>469</td>\n",
       "      <td>Quercus_Coccinea</td>\n",
       "      <td>0.000000</td>\n",
       "      <td>0.000000</td>\n",
       "      <td>0.076172</td>\n",
       "      <td>0.050781</td>\n",
       "      <td>0.007812</td>\n",
       "      <td>0.000000</td>\n",
       "      <td>0.001953</td>\n",
       "      <td>0.0</td>\n",
       "      <td>...</td>\n",
       "      <td>0.000977</td>\n",
       "      <td>0.005859</td>\n",
       "      <td>0.022461</td>\n",
       "      <td>0.001953</td>\n",
       "      <td>0.018555</td>\n",
       "      <td>0.000000</td>\n",
       "      <td>0.017578</td>\n",
       "      <td>0.013672</td>\n",
       "      <td>0.002930</td>\n",
       "      <td>0.009766</td>\n",
       "    </tr>\n",
       "    <tr>\n",
       "      <th>149</th>\n",
       "      <td>260</td>\n",
       "      <td>Quercus_Afares</td>\n",
       "      <td>0.011719</td>\n",
       "      <td>0.011719</td>\n",
       "      <td>0.019531</td>\n",
       "      <td>0.013672</td>\n",
       "      <td>0.001953</td>\n",
       "      <td>0.003906</td>\n",
       "      <td>0.029297</td>\n",
       "      <td>0.0</td>\n",
       "      <td>...</td>\n",
       "      <td>0.000000</td>\n",
       "      <td>0.000000</td>\n",
       "      <td>0.000977</td>\n",
       "      <td>0.000000</td>\n",
       "      <td>0.015625</td>\n",
       "      <td>0.000000</td>\n",
       "      <td>0.000000</td>\n",
       "      <td>0.012695</td>\n",
       "      <td>0.046875</td>\n",
       "      <td>0.025391</td>\n",
       "    </tr>\n",
       "    <tr>\n",
       "      <th>84</th>\n",
       "      <td>148</td>\n",
       "      <td>Acer_Rufinerve</td>\n",
       "      <td>0.000000</td>\n",
       "      <td>0.000000</td>\n",
       "      <td>0.011719</td>\n",
       "      <td>0.021484</td>\n",
       "      <td>0.046875</td>\n",
       "      <td>0.000000</td>\n",
       "      <td>0.013672</td>\n",
       "      <td>0.0</td>\n",
       "      <td>...</td>\n",
       "      <td>0.055664</td>\n",
       "      <td>0.021484</td>\n",
       "      <td>0.011719</td>\n",
       "      <td>0.005859</td>\n",
       "      <td>0.020508</td>\n",
       "      <td>0.000000</td>\n",
       "      <td>0.000000</td>\n",
       "      <td>0.024414</td>\n",
       "      <td>0.000000</td>\n",
       "      <td>0.003906</td>\n",
       "    </tr>\n",
       "    <tr>\n",
       "      <th>315</th>\n",
       "      <td>516</td>\n",
       "      <td>Fagus_Sylvatica</td>\n",
       "      <td>0.025391</td>\n",
       "      <td>0.035156</td>\n",
       "      <td>0.039062</td>\n",
       "      <td>0.013672</td>\n",
       "      <td>0.007812</td>\n",
       "      <td>0.066406</td>\n",
       "      <td>0.080078</td>\n",
       "      <td>0.0</td>\n",
       "      <td>...</td>\n",
       "      <td>0.013672</td>\n",
       "      <td>0.000000</td>\n",
       "      <td>0.005859</td>\n",
       "      <td>0.001953</td>\n",
       "      <td>0.008789</td>\n",
       "      <td>0.001953</td>\n",
       "      <td>0.000000</td>\n",
       "      <td>0.000977</td>\n",
       "      <td>0.000000</td>\n",
       "      <td>0.011719</td>\n",
       "    </tr>\n",
       "    <tr>\n",
       "      <th>480</th>\n",
       "      <td>779</td>\n",
       "      <td>Quercus_Ellipsoidalis</td>\n",
       "      <td>0.000000</td>\n",
       "      <td>0.000000</td>\n",
       "      <td>0.050781</td>\n",
       "      <td>0.117190</td>\n",
       "      <td>0.007812</td>\n",
       "      <td>0.000000</td>\n",
       "      <td>0.000000</td>\n",
       "      <td>0.0</td>\n",
       "      <td>...</td>\n",
       "      <td>0.003906</td>\n",
       "      <td>0.006836</td>\n",
       "      <td>0.009766</td>\n",
       "      <td>0.000000</td>\n",
       "      <td>0.014648</td>\n",
       "      <td>0.000000</td>\n",
       "      <td>0.106450</td>\n",
       "      <td>0.001953</td>\n",
       "      <td>0.004883</td>\n",
       "      <td>0.041016</td>\n",
       "    </tr>\n",
       "  </tbody>\n",
       "</table>\n",
       "<p>5 rows × 194 columns</p>\n",
       "</div>"
      ],
      "text/plain": [
       "      id                species   margin1   margin2   margin3   margin4  \\\n",
       "287  469       Quercus_Coccinea  0.000000  0.000000  0.076172  0.050781   \n",
       "149  260         Quercus_Afares  0.011719  0.011719  0.019531  0.013672   \n",
       "84   148         Acer_Rufinerve  0.000000  0.000000  0.011719  0.021484   \n",
       "315  516        Fagus_Sylvatica  0.025391  0.035156  0.039062  0.013672   \n",
       "480  779  Quercus_Ellipsoidalis  0.000000  0.000000  0.050781  0.117190   \n",
       "\n",
       "      margin5   margin6   margin7  margin8    ...      texture55  texture56  \\\n",
       "287  0.007812  0.000000  0.001953      0.0    ...       0.000977   0.005859   \n",
       "149  0.001953  0.003906  0.029297      0.0    ...       0.000000   0.000000   \n",
       "84   0.046875  0.000000  0.013672      0.0    ...       0.055664   0.021484   \n",
       "315  0.007812  0.066406  0.080078      0.0    ...       0.013672   0.000000   \n",
       "480  0.007812  0.000000  0.000000      0.0    ...       0.003906   0.006836   \n",
       "\n",
       "     texture57  texture58  texture59  texture60  texture61  texture62  \\\n",
       "287   0.022461   0.001953   0.018555   0.000000   0.017578   0.013672   \n",
       "149   0.000977   0.000000   0.015625   0.000000   0.000000   0.012695   \n",
       "84    0.011719   0.005859   0.020508   0.000000   0.000000   0.024414   \n",
       "315   0.005859   0.001953   0.008789   0.001953   0.000000   0.000977   \n",
       "480   0.009766   0.000000   0.014648   0.000000   0.106450   0.001953   \n",
       "\n",
       "     texture63  texture64  \n",
       "287   0.002930   0.009766  \n",
       "149   0.046875   0.025391  \n",
       "84    0.000000   0.003906  \n",
       "315   0.000000   0.011719  \n",
       "480   0.004883   0.041016  \n",
       "\n",
       "[5 rows x 194 columns]"
      ]
     },
     "execution_count": 2,
     "metadata": {},
     "output_type": "execute_result"
    }
   ],
   "source": [
    "# load the csv file lab, display head to examine\n",
    "train_file = 'train.csv'\n",
    "train_csv = pd.read_csv(train_file)\n",
    "# randomize dataframe rows to prepare for dividing into train/valid/test sets\n",
    "data = train_csv.sample(frac = 1)\n",
    "# display for a quick check\n",
    "data.head()\n"
   ]
  },
  {
   "cell_type": "code",
   "execution_count": 3,
   "metadata": {
    "collapsed": false
   },
   "outputs": [
    {
     "name": "stdout",
     "output_type": "stream",
     "text": [
      "First 10 categories:  ['Acer_Opalus' 'Pterocarya_Stenoptera' 'Quercus_Hartwissiana'\n",
      " 'Tilia_Tomentosa' 'Quercus_Variabilis' 'Magnolia_Salicifolia'\n",
      " 'Quercus_Canariensis' 'Quercus_Rubra' 'Quercus_Brantii' 'Salix_Fragilis']\n",
      "Number of categories: 99\n",
      "<type 'numpy.ndarray'>\n"
     ]
    }
   ],
   "source": [
    "#get the different species categories\n",
    "categories = train_csv.species.unique()\n",
    "#print the 1st 10 to verify\n",
    "print \"First 10 categories: \", categories[:10]\n",
    "#print length of array to ensure 99 categories are there\n",
    "print \"Number of categories:\", len(categories) \n",
    "print type(categories)\n",
    "\n",
    "#convert string categories for training set into indices of the categories array\n",
    "labels_dense = [np.where(i == categories)[0][0] for i in data.species]\n",
    "\n",
    "#convert dense labels to one-hot-encoding\n",
    "labels = np.eye(len(categories))[labels_dense]"
   ]
  },
  {
   "cell_type": "markdown",
   "metadata": {},
   "source": [
    "Split the csv data into training, test, and validation sets"
   ]
  },
  {
   "cell_type": "code",
   "execution_count": 4,
   "metadata": {
    "collapsed": false
   },
   "outputs": [
    {
     "name": "stdout",
     "output_type": "stream",
     "text": [
      "Total data: 990 Training and validation examples: 792 Test examples: 198\n",
      "Total labels: 990 Training and validation labels: 792 Test labelss: 198\n",
      "Total Training and validation examples: 792 Training examples: 633 Validation examples: 159\n",
      "Total Training and validationl labels: 792 Training labels: 633 Validation labels: 159\n",
      "Shape of training labels: (633, 99)\n"
     ]
    }
   ],
   "source": [
    "# split into train/test datasets. \n",
    "# test here means my own private test set to get my own idea of the accuracy, not the given test set\n",
    "train_length = int(len(data) * .8)\n",
    "\n",
    "train_ = data[:train_length]\n",
    "test_data = data[train_length:]\n",
    "print(\"Total data: {} Training and validation examples: {} Test examples: {}\".format(len(data), len(train_), len(test_data)))\n",
    "train_l = labels[:train_length]\n",
    "test_labels = labels[train_length:]\n",
    "print(\"Total labels: {} Training and validation labels: {} Test labelss: {}\".format(len(labels), len(train_l), len(test_labels)))\n",
    "\n",
    "#further split training data and labels into training and validation sets\n",
    "\n",
    "train_length = int(len(train_) * .8)\n",
    "\n",
    "train_data = train_[:train_length]\n",
    "valid_data = train_[train_length:]\n",
    "print(\"Total Training and validation examples: {} Training examples: {} Validation examples: {}\".format(len(train_), len(train_data), len(valid_data)))\n",
    "train_labels = train_l[:train_length]\n",
    "valid_labels = train_l[train_length:]\n",
    "print(\"Total Training and validationl labels: {} Training labels: {} Validation labels: {}\".format(len(train_l), len(train_labels), len(valid_labels)))\n",
    "print(\"Shape of training labels: {}\".format(train_labels.shape))"
   ]
  },
  {
   "cell_type": "markdown",
   "metadata": {
    "collapsed": true
   },
   "source": [
    "Now for the image data: I will grab the image for all the ids in the training and test set, coverting them from jpg to binary."
   ]
  },
  {
   "cell_type": "code",
   "execution_count": 5,
   "metadata": {
    "collapsed": false
   },
   "outputs": [],
   "source": [
    "def make_image_set(csv_set):\n",
    "    images = []\n",
    "    for i in csv_set.id:\n",
    "        im_gray = cv2.imread('images/' + str(i) + \".jpg\", cv2.IMREAD_GRAYSCALE)\n",
    "        thres, im_bw = cv2.threshold(im_gray, 128, 255, cv2.THRESH_BINARY | cv2.THRESH_OTSU)\n",
    "        im_bw = np.array(im_bw)\n",
    "        images.append(im_bw)\n",
    "    return np.array(images)\n",
    "\n",
    "train_images = make_image_set(train_data)\n",
    "valid_images = make_image_set(valid_data)\n",
    "test_images = make_image_set(test_data)\n",
    "\n",
    " # conversion to binary courtesy of  http://stackoverflow.com/a/7637687/399741"
   ]
  },
  {
   "cell_type": "code",
   "execution_count": 6,
   "metadata": {
    "collapsed": false
   },
   "outputs": [
    {
     "data": {
      "image/png": "[encoded data removed]",
      "text/plain": [
       "<matplotlib.figure.Figure at 0x7f16d8d80f10>"
      ]
     },
     "metadata": {},
     "output_type": "display_data"
    }
   ],
   "source": [
    "#visualize a few examples, visually verify with images in folder\n",
    "fig = plt.figure()\n",
    "counter = 1\n",
    "for ima in train_images[:4]:\n",
    "    a = fig.add_subplot(2,2, counter)\n",
    "    plt.imshow(ima, cmap='gray')\n",
    "    counter +=1\n",
    "    "
   ]
  },
  {
   "cell_type": "markdown",
   "metadata": {
    "collapsed": true
   },
   "source": [
    "Need to make all the images the same size to run a CNN. Since CNNs are location invariant, preserving image shape is more important than centering it or preserving its location. So I will add black pixeles to the bottom and right edges of the image matrices so that they are of uniform size."
   ]
  },
  {
   "cell_type": "code",
   "execution_count": 31,
   "metadata": {
    "collapsed": false
   },
   "outputs": [
    {
     "name": "stdout",
     "output_type": "stream",
     "text": [
      "Max image height:  1089\n",
      "Max image width:  1633\n",
      "(1089, 1633)\n"
     ]
    }
   ],
   "source": [
    "# get the max height and width of all the images in the image dataset\n",
    "max_height = 0\n",
    "max_width = 0\n",
    "\n",
    "for i in images:\n",
    "    if i.shape[0] > max_height:\n",
    "        max_height = i.shape[0]\n",
    "    if i.shape[1] > max_width:\n",
    "        max_width = i.shape[1]\n",
    "        \n",
    "print \"Max image height: \", max_height\n",
    "print \"Max image width: \", max_width\n",
    "\n",
    "# add the padding\n",
    "def add_padding(image, width, height):\n",
    "    add_bottom = height - image.shape[0]\n",
    "    add_right = width - image.shape[1]\n",
    "    npad = ((0, add_bottom), (0, add_right))\n",
    "    return np.pad(image, pad_width=npad, mode='constant', constant_values=0)\n",
    "   \n",
    "train_images_padded = np.array([add_padding(i, max_width, max_height) for i in train_images])\n",
    "valid_images_padded = np.array([add_padding(i, max_width, max_height) for i in valid_images])\n",
    "test_images_padded = np.array([add_padding(i, max_width, max_height) for i in test_images])\n",
    "print train_images_padded[108].shape"
   ]
  },
  {
   "cell_type": "code",
   "execution_count": 32,
   "metadata": {
    "collapsed": false
   },
   "outputs": [
    {
     "data": {
      "image/png": "[encoded data removed]",
      "text/plain": [
       "<matplotlib.figure.Figure at 0x7f1b0509b350>"
      ]
     },
     "metadata": {},
     "output_type": "display_data"
    }
   ],
   "source": [
    "#visualize a few examples, visually verify that padding was added\n",
    "fig = plt.figure()\n",
    "counter = 1\n",
    "for ima in train_images_padded[:4]:\n",
    "    a = fig.add_subplot(2,2, counter)\n",
    "    plt.imshow(ima, cmap='gray')\n",
    "    counter +=1\n"
   ]
  },
  {
   "cell_type": "markdown",
   "metadata": {
    "collapsed": true
   },
   "source": [
    "With all the images the same size, I can now run a CNN. First some useful functions. Much of this code is adapted from TensorFlow.org's tutorial at https://www.tensorflow.org/versions/r0.11/tutorials/mnist/pros/index.html"
   ]
  },
  {
   "cell_type": "code",
   "execution_count": null,
   "metadata": {
    "collapsed": true
   },
   "outputs": [],
   "source": [
    "# functions to create CNN layers\n",
    "def weight_variable(shape):\n",
    "  initial = tf.truncated_normal(shape, stddev=0.1)\n",
    "  return tf.Variable(initial)\n",
    "\n",
    "def bias_variable(shape):\n",
    "  initial = tf.constant(0.1, shape=shape)\n",
    "  return tf.Variable(initial)\n",
    "\n",
    "# an accuracy function for testing\n",
    "#https://github.com/tensorflow/tensorflow/blob/master/tensorflow/examples/udacity/4_convolutions.ipynb   \n",
    "def accuracy(predictions, labels):\n",
    "  return (100.0 * np.sum(np.argmax(predictions, 1) == np.argmax(labels, 1))\n",
    "          / predictions.shape[0])"
   ]
  },
  {
   "cell_type": "markdown",
   "metadata": {
    "collapsed": true
   },
   "source": [
    "Now to create the model graph."
   ]
  },
  {
   "cell_type": "code",
   "execution_count": null,
   "metadata": {
    "collapsed": true
   },
   "outputs": [],
   "source": [
    "#placeholders for the inputs\n",
    "x = tf.placeholder(tf.float32, shape=[None, 784])\n",
    "y_ = tf.placeholder(tf.float32, shape=[None, 10])\n",
    "\n",
    "#Conv Layer 1\n",
    "#the weights \n",
    "# [patch size, patch size, input channels, output channels]\n",
    "W_conv1 = weight_variable([5, 5, 1, 32])\n",
    "b_conv1 = bias_variable([32])\n",
    "\n",
    "#reshape x to fit a 4d tensor, with the second and third dimensions being image width and height\n",
    "# final dimension the number of color chanels\n",
    "x_image = tf.reshape(x, [-1, 28, 28, 1])\n",
    "\n",
    "#convolving x_image with the weight tensor, add the bias, applly the ReLU function, then max pool\n",
    "h_conv1 = tf.nn.relu(conv2d(x_image, W_conv1) + b_conv1)\n",
    "h_pool1 = max_pool_2x2(h_conv1)\n",
    "\n",
    "#Conv Layer 2\n",
    "W_conv2 = weight_variable([5, 5, 32, 64])\n",
    "b_conv2 = bias_variable([64])\n",
    "\n",
    "h_conv2 = tf.nn.relu(conv2d(h_pool1, W_conv2) + b_conv2)\n",
    "h_pool2 = max_pool_2x2(h_conv2)\n",
    "\n",
    "#Densely connected layer\n",
    "#image size has been reduced to 7x7. We add a fully-connected layer with 1024 units\n",
    "W_fc1 = weight_variable([7 * 7 * 64, 1024])\n",
    "b_fc1 = bias_variable([1024])\n",
    "\n",
    "h_pool2_flat = tf.reshape(h_pool2, [-1, 7*7*64])\n",
    "h_fc1 = tf.nn.relu(tf.matmul(h_pool2_flat, W_fc1) + b_fc1)\n",
    "\n",
    "#Dropout to reduce overfitting\n",
    "keep_prob = tf.placeholder(tf.float32)\n",
    "h_fc1_drop = tf.nn.dropout(h_fc1, keep_prob)\n",
    "\n",
    "#Readout layer\n",
    "W_fc2 = weight_variable([1024, 10])\n",
    "b_fc2 = bias_variable([10])\n",
    "\n",
    "y_conv = tf.matmul(h_fc1_drop, W_fc2) + b_fc2\n"
   ]
  },
  {
   "cell_type": "markdown",
   "metadata": {},
   "source": [
    "Now to train the model."
   ]
  }
 ],
 "metadata": {
  "kernelspec": {
   "display_name": "Python 2",
   "language": "python",
   "name": "python2"
  },
  "language_info": {
   "codemirror_mode": {
    "name": "ipython",
    "version": 2
   },
   "file_extension": ".py",
   "mimetype": "text/x-python",
   "name": "python",
   "nbconvert_exporter": "python",
   "pygments_lexer": "ipython2",
   "version": "2.7.12"
  }
 },
 "nbformat": 4,
 "nbformat_minor": 1
}
