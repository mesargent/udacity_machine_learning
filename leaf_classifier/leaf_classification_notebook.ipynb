{
 "cells": [
  {
   "cell_type": "code",
   "execution_count": 1,
   "metadata": {
    "collapsed": false
   },
   "outputs": [],
   "source": [
    "%matplotlib inline\n",
    "import numpy as np\n",
    "import cv2\n",
    "import matplotlib.pyplot as plt\n",
    "import pandas as pd\n",
    "\n"
   ]
  },
  {
   "cell_type": "markdown",
   "metadata": {},
   "source": [
    "Loading and processing the training data"
   ]
  },
  {
   "cell_type": "code",
   "execution_count": 15,
   "metadata": {
    "collapsed": false,
    "scrolled": true
   },
   "outputs": [
    {
     "data": {
      "text/html": [
       "<div>\n",
       "<table border=\"1\" class=\"dataframe\">\n",
       "  <thead>\n",
       "    <tr style=\"text-align: right;\">\n",
       "      <th></th>\n",
       "      <th>id</th>\n",
       "      <th>species</th>\n",
       "      <th>margin1</th>\n",
       "      <th>margin2</th>\n",
       "      <th>margin3</th>\n",
       "      <th>margin4</th>\n",
       "      <th>margin5</th>\n",
       "      <th>margin6</th>\n",
       "      <th>margin7</th>\n",
       "      <th>margin8</th>\n",
       "      <th>...</th>\n",
       "      <th>texture55</th>\n",
       "      <th>texture56</th>\n",
       "      <th>texture57</th>\n",
       "      <th>texture58</th>\n",
       "      <th>texture59</th>\n",
       "      <th>texture60</th>\n",
       "      <th>texture61</th>\n",
       "      <th>texture62</th>\n",
       "      <th>texture63</th>\n",
       "      <th>texture64</th>\n",
       "    </tr>\n",
       "  </thead>\n",
       "  <tbody>\n",
       "    <tr>\n",
       "      <th>293</th>\n",
       "      <td>485</td>\n",
       "      <td>Quercus_Nigra</td>\n",
       "      <td>0.011719</td>\n",
       "      <td>0.025391</td>\n",
       "      <td>0.027344</td>\n",
       "      <td>0.035156</td>\n",
       "      <td>0.003906</td>\n",
       "      <td>0.021484</td>\n",
       "      <td>0.005859</td>\n",
       "      <td>0.000000</td>\n",
       "      <td>...</td>\n",
       "      <td>0.002930</td>\n",
       "      <td>0.000000</td>\n",
       "      <td>0.046875</td>\n",
       "      <td>0.002930</td>\n",
       "      <td>0.021484</td>\n",
       "      <td>0.00000</td>\n",
       "      <td>0.0</td>\n",
       "      <td>0.000000</td>\n",
       "      <td>0.045898</td>\n",
       "      <td>0.002930</td>\n",
       "    </tr>\n",
       "    <tr>\n",
       "      <th>341</th>\n",
       "      <td>561</td>\n",
       "      <td>Populus_Grandidentata</td>\n",
       "      <td>0.007812</td>\n",
       "      <td>0.011719</td>\n",
       "      <td>0.126950</td>\n",
       "      <td>0.007812</td>\n",
       "      <td>0.005859</td>\n",
       "      <td>0.048828</td>\n",
       "      <td>0.007812</td>\n",
       "      <td>0.000000</td>\n",
       "      <td>...</td>\n",
       "      <td>0.022461</td>\n",
       "      <td>0.000000</td>\n",
       "      <td>0.017578</td>\n",
       "      <td>0.000000</td>\n",
       "      <td>0.002930</td>\n",
       "      <td>0.00000</td>\n",
       "      <td>0.0</td>\n",
       "      <td>0.011719</td>\n",
       "      <td>0.000977</td>\n",
       "      <td>0.064453</td>\n",
       "    </tr>\n",
       "    <tr>\n",
       "      <th>408</th>\n",
       "      <td>671</td>\n",
       "      <td>Viburnum_Tinus</td>\n",
       "      <td>0.025391</td>\n",
       "      <td>0.035156</td>\n",
       "      <td>0.027344</td>\n",
       "      <td>0.011719</td>\n",
       "      <td>0.003906</td>\n",
       "      <td>0.054688</td>\n",
       "      <td>0.046875</td>\n",
       "      <td>0.000000</td>\n",
       "      <td>...</td>\n",
       "      <td>0.000000</td>\n",
       "      <td>0.000977</td>\n",
       "      <td>0.016602</td>\n",
       "      <td>0.021484</td>\n",
       "      <td>0.040039</td>\n",
       "      <td>0.00000</td>\n",
       "      <td>0.0</td>\n",
       "      <td>0.015625</td>\n",
       "      <td>0.042969</td>\n",
       "      <td>0.010742</td>\n",
       "    </tr>\n",
       "    <tr>\n",
       "      <th>161</th>\n",
       "      <td>282</td>\n",
       "      <td>Populus_Nigra</td>\n",
       "      <td>0.017578</td>\n",
       "      <td>0.013672</td>\n",
       "      <td>0.058594</td>\n",
       "      <td>0.003906</td>\n",
       "      <td>0.009766</td>\n",
       "      <td>0.033203</td>\n",
       "      <td>0.046875</td>\n",
       "      <td>0.005859</td>\n",
       "      <td>...</td>\n",
       "      <td>0.032227</td>\n",
       "      <td>0.000000</td>\n",
       "      <td>0.013672</td>\n",
       "      <td>0.002930</td>\n",
       "      <td>0.030273</td>\n",
       "      <td>0.00000</td>\n",
       "      <td>0.0</td>\n",
       "      <td>0.002930</td>\n",
       "      <td>0.000000</td>\n",
       "      <td>0.011719</td>\n",
       "    </tr>\n",
       "    <tr>\n",
       "      <th>603</th>\n",
       "      <td>958</td>\n",
       "      <td>Quercus_Alnifolia</td>\n",
       "      <td>0.017578</td>\n",
       "      <td>0.029297</td>\n",
       "      <td>0.031250</td>\n",
       "      <td>0.005859</td>\n",
       "      <td>0.003906</td>\n",
       "      <td>0.037109</td>\n",
       "      <td>0.039062</td>\n",
       "      <td>0.003906</td>\n",
       "      <td>...</td>\n",
       "      <td>0.000000</td>\n",
       "      <td>0.000000</td>\n",
       "      <td>0.001953</td>\n",
       "      <td>0.011719</td>\n",
       "      <td>0.025391</td>\n",
       "      <td>0.00293</td>\n",
       "      <td>0.0</td>\n",
       "      <td>0.010742</td>\n",
       "      <td>0.003906</td>\n",
       "      <td>0.004883</td>\n",
       "    </tr>\n",
       "  </tbody>\n",
       "</table>\n",
       "<p>5 rows × 194 columns</p>\n",
       "</div>"
      ],
      "text/plain": [
       "      id                species   margin1   margin2   margin3   margin4  \\\n",
       "293  485          Quercus_Nigra  0.011719  0.025391  0.027344  0.035156   \n",
       "341  561  Populus_Grandidentata  0.007812  0.011719  0.126950  0.007812   \n",
       "408  671         Viburnum_Tinus  0.025391  0.035156  0.027344  0.011719   \n",
       "161  282          Populus_Nigra  0.017578  0.013672  0.058594  0.003906   \n",
       "603  958      Quercus_Alnifolia  0.017578  0.029297  0.031250  0.005859   \n",
       "\n",
       "      margin5   margin6   margin7   margin8    ...      texture55  texture56  \\\n",
       "293  0.003906  0.021484  0.005859  0.000000    ...       0.002930   0.000000   \n",
       "341  0.005859  0.048828  0.007812  0.000000    ...       0.022461   0.000000   \n",
       "408  0.003906  0.054688  0.046875  0.000000    ...       0.000000   0.000977   \n",
       "161  0.009766  0.033203  0.046875  0.005859    ...       0.032227   0.000000   \n",
       "603  0.003906  0.037109  0.039062  0.003906    ...       0.000000   0.000000   \n",
       "\n",
       "     texture57  texture58  texture59  texture60  texture61  texture62  \\\n",
       "293   0.046875   0.002930   0.021484    0.00000        0.0   0.000000   \n",
       "341   0.017578   0.000000   0.002930    0.00000        0.0   0.011719   \n",
       "408   0.016602   0.021484   0.040039    0.00000        0.0   0.015625   \n",
       "161   0.013672   0.002930   0.030273    0.00000        0.0   0.002930   \n",
       "603   0.001953   0.011719   0.025391    0.00293        0.0   0.010742   \n",
       "\n",
       "     texture63  texture64  \n",
       "293   0.045898   0.002930  \n",
       "341   0.000977   0.064453  \n",
       "408   0.042969   0.010742  \n",
       "161   0.000000   0.011719  \n",
       "603   0.003906   0.004883  \n",
       "\n",
       "[5 rows x 194 columns]"
      ]
     },
     "execution_count": 15,
     "metadata": {},
     "output_type": "execute_result"
    }
   ],
   "source": [
    "# load the csv file lab, display head to examine\n",
    "train_file = 'train.csv'\n",
    "train_csv = pd.read_csv(train_file)\n",
    "# randomize dataframe rows to prepare for dividing into train/valid/test sets\n",
    "data = train_csv.sample(frac = 1)\n",
    "# display for a quick check\n",
    "data.head()\n"
   ]
  },
  {
   "cell_type": "code",
   "execution_count": 16,
   "metadata": {
    "collapsed": false
   },
   "outputs": [
    {
     "name": "stdout",
     "output_type": "stream",
     "text": [
      "First 10 categories:  ['Acer_Opalus' 'Pterocarya_Stenoptera' 'Quercus_Hartwissiana'\n",
      " 'Tilia_Tomentosa' 'Quercus_Variabilis' 'Magnolia_Salicifolia'\n",
      " 'Quercus_Canariensis' 'Quercus_Rubra' 'Quercus_Brantii' 'Salix_Fragilis']\n",
      "Number of categories: 99\n",
      "<type 'numpy.ndarray'>\n"
     ]
    }
   ],
   "source": [
    "#get the different species categories\n",
    "categories = train_csv.species.unique()\n",
    "#print the 1st 10 to verify\n",
    "print \"First 10 categories: \", categories[:10]\n",
    "#print length of array to ensure 99 categories are there\n",
    "print \"Number of categories:\", len(categories) \n",
    "print type(categories)\n",
    "\n",
    "#convert string categories for training set into indices of the categories array\n",
    "labels_dense = [np.where(i == categories)[0][0] for i in data.species]\n",
    "\n",
    "#convert dense labels to one-hot-encoding\n",
    "labels = np.eye(len(categories))[labels_dense]"
   ]
  },
  {
   "cell_type": "markdown",
   "metadata": {},
   "source": [
    "Split the data into training, test, and validation sets"
   ]
  },
  {
   "cell_type": "code",
   "execution_count": 24,
   "metadata": {
    "collapsed": false
   },
   "outputs": [
    {
     "name": "stdout",
     "output_type": "stream",
     "text": [
      "Total data: 990 Training and validation examples: 792 Test examples: 198\n",
      "Total labels: 990 Training and validation labels: 792 Test labelss: 198\n",
      "Total Training and validation examples: 792 Training examples: 633 Validation examples: 159\n",
      "Total Training and validationl labels: 792 Training labels: 633 Validation labels: 159\n",
      "Shape of training labels: (633, 99)\n"
     ]
    }
   ],
   "source": [
    "# split into train/test datasets. \n",
    "# test here means my own private test set to get my own idea of the accuracy, not the given test set\n",
    "train_length = int(len(data) * .8)\n",
    "\n",
    "train_ = data[:train_length]\n",
    "test_data = data[train_length:]\n",
    "print(\"Total data: {} Training and validation examples: {} Test examples: {}\".format(len(data), len(train_), len(test_data)))\n",
    "train_l = labels[:train_length]\n",
    "test_labels = labels[train_length:]\n",
    "print(\"Total labels: {} Training and validation labels: {} Test labelss: {}\".format(len(labels), len(train_l), len(test_labels)))\n",
    "\n",
    "#further split training data and labels into training and validation sets\n",
    "\n",
    "train_length = int(len(train_) * .8)\n",
    "\n",
    "train_data = train_[:train_length]\n",
    "valid_data = train_[train_length:]\n",
    "print(\"Total Training and validation examples: {} Training examples: {} Validation examples: {}\".format(len(train_), len(train_data), len(valid_data)))\n",
    "train_labels = train_l[:train_length]\n",
    "valid_labels = train_l[train_length:]\n",
    "print(\"Total Training and validationl labels: {} Training labels: {} Validation labels: {}\".format(len(train_l), len(train_labels), len(valid_labels)))\n",
    "print(\"Shape of training labels: {}\".format(train_labels.shape))"
   ]
  },
  {
   "cell_type": "markdown",
   "metadata": {
    "collapsed": true
   },
   "source": [
    "Now for the image data: I will grab the image for all the ids in the training and test set"
   ]
  },
  {
   "cell_type": "code",
   "execution_count": 25,
   "metadata": {
    "collapsed": false
   },
   "outputs": [],
   "source": [
    "images = []\n",
    "for i in train_csv.id:\n",
    "    images.append(cv2.imread('images/' + str(i) + \".jpg\"))\n",
    "\n",
    "   "
   ]
  },
  {
   "cell_type": "code",
   "execution_count": 26,
   "metadata": {
    "collapsed": false
   },
   "outputs": [
    {
     "data": {
      "image/png": "[encoded data removed]",
      "text/plain": [
       "<matplotlib.figure.Figure at 0x7f470132ee90>"
      ]
     },
     "metadata": {},
     "output_type": "display_data"
    }
   ],
   "source": [
    "#visualize a few examples, visually verify with images in folder\n",
    "fig = plt.figure()\n",
    "counter = 1\n",
    "for ima in images[:4]:\n",
    "    a = fig.add_subplot(2,2, counter)\n",
    "    plt.imshow(ima)\n",
    "    counter +=1\n",
    "    "
   ]
  },
  {
   "cell_type": "markdown",
   "metadata": {
    "collapsed": true
   },
   "source": [
    "Need to make all the images the same size to run a CNN. Since CNNs are location invariant, preserving image shape is more important than centering it or preserving its location. So I will add black pixeles to the top and right edges of the image matrices so that they are of uniform size."
   ]
  },
  {
   "cell_type": "code",
   "execution_count": null,
   "metadata": {
    "collapsed": true
   },
   "outputs": [],
   "source": [
    "# get the max hight and width of all the images in the image dataset\n"
   ]
  }
 ],
 "metadata": {
  "kernelspec": {
   "display_name": "Python 2",
   "language": "python",
   "name": "python2"
  },
  "language_info": {
   "codemirror_mode": {
    "name": "ipython",
    "version": 2
   },
   "file_extension": ".py",
   "mimetype": "text/x-python",
   "name": "python",
   "nbconvert_exporter": "python",
   "pygments_lexer": "ipython2",
   "version": "2.7.12"
  }
 },
 "nbformat": 4,
 "nbformat_minor": 1
}
